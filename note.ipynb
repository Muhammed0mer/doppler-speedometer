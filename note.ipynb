{
 "cells": [
  {
   "cell_type": "code",
   "execution_count": 1,
   "metadata": {},
   "outputs": [],
   "source": [
    "#!/usr/bin/env python\n",
    "# -*- charset utf8 -*-\n",
    "\n",
    "import pyaudio\n",
    "import numpy\n",
    "import math\n",
    "import matplotlib.pyplot as plt\n",
    "import matplotlib.animation\n",
    "import wave\n",
    "import soundfile"
   ]
  },
  {
   "cell_type": "code",
   "execution_count": 2,
   "metadata": {},
   "outputs": [],
   "source": [
    "RATE = 44100\n",
    "BUFFER = 882\n",
    "\n",
    "# data,fs=soundfile.read('ald.wav', dtype='float32')\n",
    "\n",
    "filename = 'ald.wav'\n",
    "chunk = 1024\n",
    "wf = wave.open(filename, 'rb')"
   ]
  },
  {
   "cell_type": "code",
   "execution_count": 3,
   "metadata": {},
   "outputs": [],
   "source": [
    "p = pyaudio.PyAudio()\n",
    "\n",
    "stream = p.open(\n",
    "    format = p.get_format_from_width(wf.getsampwidth()),\n",
    "                channels = wf.getnchannels(),\n",
    "                rate = wf.getframerate(),\n",
    "                output = True,\n",
    "                input=True)"
   ]
  },
  {
   "cell_type": "code",
   "execution_count": 4,
   "metadata": {},
   "outputs": [],
   "source": [
    "# read in the frames as data\n",
    "data = wf.readframes(chunk)\n"
   ]
  },
  {
   "cell_type": "code",
   "execution_count": 5,
   "metadata": {},
   "outputs": [],
   "source": [
    "# # while the data isn't empty\n",
    "# while data != b'':\n",
    "#     stream.write(data)\n",
    "#     data = wf.readframes(chunk)"
   ]
  },
  {
   "cell_type": "code",
   "execution_count": 6,
   "metadata": {},
   "outputs": [
    {
     "data": {
      "image/png": "[encoded data removed]",
      "text/plain": [
       "<Figure size 640x480 with 1 Axes>"
      ]
     },
     "metadata": {},
     "output_type": "display_data"
    }
   ],
   "source": [
    "fig = plt.figure()\n",
    "line1 = plt.plot([],[])[0]\n",
    "line2 = plt.plot([],[])[0]"
   ]
  },
  {
   "cell_type": "code",
   "execution_count": 7,
   "metadata": {},
   "outputs": [
    {
     "data": {
      "text/plain": [
       "572"
      ]
     },
     "execution_count": 7,
     "metadata": {},
     "output_type": "execute_result"
    }
   ],
   "source": [
    "RATE = wf.getframerate()\n",
    "BUFFER = chunk\n",
    "\n",
    "r = range(0,int(RATE/2+1),int(RATE/BUFFER))\n",
    "l = len(r)\n",
    "r\n",
    "l"
   ]
  },
  {
   "cell_type": "code",
   "execution_count": 8,
   "metadata": {},
   "outputs": [],
   "source": [
    "def init_line():\n",
    "        line1.set_data(r, [-1000]*l)\n",
    "        line2.set_data(r, [-1000]*l)\n",
    "        return (line1,line2,)"
   ]
  },
  {
   "cell_type": "code",
   "execution_count": 9,
   "metadata": {},
   "outputs": [
    {
     "name": "stderr",
     "output_type": "stream",
     "text": [
      "C:\\Users\\umerb\\AppData\\Local\\Temp\\ipykernel_6824\\2754312398.py:29: UserWarning: frames=None which we can infer the length of, did not pass an explicit *save_count* and passed cache_frame_data=True.  To avoid a possibly unbounded cache, frame data caching has been disabled. To suppress this warning either pass `cache_frame_data=False` or `save_count=MAX_FRAMES`.\n",
      "  line_ani = matplotlib.animation.FuncAnimation(\n"
     ]
    },
    {
     "data": {
      "image/png": "[encoded data removed]",
      "text/plain": [
       "<Figure size 640x480 with 1 Axes>"
      ]
     },
     "metadata": {},
     "output_type": "display_data"
    }
   ],
   "source": [
    "def update_line(i):\n",
    "    try:\n",
    "        dataraw = wf.readframes(chunk)\n",
    "        datstream = stream.write(dataraw)\n",
    "        datafin = stream.read(chunk)\n",
    "\n",
    "        \n",
    "        data = numpy.fft.rfft(numpy.fromstring(\n",
    "            datafin, dtype=numpy.float32)\n",
    "        )\n",
    "    except IOError:\n",
    "        pass\n",
    "    try:\n",
    "        data = numpy.log10(numpy.sqrt(\n",
    "            numpy.real(data)**2+numpy.imag(data)**2) / BUFFER) * 10\n",
    "    except:\n",
    "        pass\n",
    "    line1.set_data(r, data)\n",
    "    line2.set_data(numpy.maximum(line1.get_data(), line2.get_data()))\n",
    "    return (line1,line2,)\n",
    "\n",
    "plt.xlim(0, RATE/2+1)\n",
    "plt.ylim(-60, 0)\n",
    "plt.xlabel('Frequency')\n",
    "plt.ylabel('dB')\n",
    "plt.title('Spectrometer')\n",
    "plt.grid()\n",
    "\n",
    "line_ani = matplotlib.animation.FuncAnimation(\n",
    "    fig, update_line, init_func=init_line, interval=0, blit=True\n",
    ")\n",
    "\n",
    "plt.show()"
   ]
  },
  {
   "cell_type": "code",
   "execution_count": 10,
   "metadata": {},
   "outputs": [
    {
     "ename": "",
     "evalue": "",
     "output_type": "error",
     "traceback": [
      "\u001b[1;31mThe Kernel crashed while executing code in the the current cell or a previous cell. Please review the code in the cell(s) to identify a possible cause of the failure. Click <a href='https://aka.ms/vscodeJupyterKernelCrash'>here</a> for more info. View Jupyter <a href='command:jupyter.viewOutput'>log</a> for further details."
     ]
    }
   ],
   "source": [
    "# cleanup\n",
    "# stream.close()\n",
    "# p.terminate()"
   ]
  }
 ],
 "metadata": {
  "kernelspec": {
   "display_name": "dopplerfin",
   "language": "python",
   "name": "python3"
  },
  "language_info": {
   "codemirror_mode": {
    "name": "ipython",
    "version": 3
   },
   "file_extension": ".py",
   "mimetype": "text/x-python",
   "name": "python",
   "nbconvert_exporter": "python",
   "pygments_lexer": "ipython3",
   "version": "3.11.7"
  }
 },
 "nbformat": 4,
 "nbformat_minor": 2
}
