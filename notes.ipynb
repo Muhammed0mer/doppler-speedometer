{
 "cells": [
  {
   "cell_type": "markdown",
   "metadata": {},
   "source": [
    "### In terms of wavelength:\n",
    "\n",
    "$$\n",
    "V_{source} = v \\times \\frac{\\lambda _{receding} - \\lambda _{approaching}}{ \\lambda _{receding} +  \\lambda _{approaching}}\n",
    "$$"
   ]
  },
  {
   "cell_type": "markdown",
   "metadata": {},
   "source": [
    "### In terms of frequency:\n",
    "\n",
    "$$\n",
    "V_{source} = v \\times \\frac{f_{approaching} - f_{receding}}{ f_{receding} +  f_{approaching}}\n",
    "$$"
   ]
  },
  {
   "cell_type": "code",
   "execution_count": 2,
   "metadata": {},
   "outputs": [],
   "source": [
    "def calcspeed_kmh(fappr,frec,v=330):\n",
    "    Vsource= v*((fappr-frec)/(fappr+frec))\n",
    "    return Vsource*3600/1000"
   ]
  },
  {
   "cell_type": "code",
   "execution_count": 3,
   "metadata": {},
   "outputs": [
    {
     "data": {
      "text/plain": [
       "63.1304347826087"
      ]
     },
     "execution_count": 3,
     "metadata": {},
     "output_type": "execute_result"
    }
   ],
   "source": [
    "calcspeed_kmh(981,882)"
   ]
  }
 ],
 "metadata": {
  "kernelspec": {
   "display_name": "dopplerfin",
   "language": "python",
   "name": "python3"
  },
  "language_info": {
   "codemirror_mode": {
    "name": "ipython",
    "version": 3
   },
   "file_extension": ".py",
   "mimetype": "text/x-python",
   "name": "python",
   "nbconvert_exporter": "python",
   "pygments_lexer": "ipython3",
   "version": "3.11.7"
  }
 },
 "nbformat": 4,
 "nbformat_minor": 2
}
